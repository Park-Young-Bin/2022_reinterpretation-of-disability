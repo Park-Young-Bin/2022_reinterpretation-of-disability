{
 "cells": [
  {
   "cell_type": "markdown",
   "id": "ac2719ee-bad6-472d-bb96-34a502570958",
   "metadata": {},
   "source": [
    "[날짜 구현](https://jsikim1.tistory.com/144)  \n",
    "[날짜 계산](https://jsikim1.tistory.com/143)  \n",
    "[날짜, 시간을 문자열로 변환](https://jsikim1.tistory.com/216)  \n",
    "[xml to dataframe (1)](https://w0lfydocoding.tistory.com/46)  \n",
    "[xml to dataframe (2)](https://rfriend.tistory.com/477)"
   ]
  },
  {
   "cell_type": "markdown",
   "id": "d9f7bd33-fd4c-4f6a-a1b4-723968e547a8",
   "metadata": {},
   "source": [
    "# XML to DataFrame (OPpen API 데이터 활용)"
   ]
  },
  {
   "cell_type": "markdown",
   "id": "8a10632c-d476-44e1-95ed-12eb4d300aaf",
   "metadata": {
    "tags": []
   },
   "source": [
    "## 0. 테스트 예시\n",
    "- 서울열린데이터광장 → 장애인콜시스템 → 2022년 8월 15일 정보 가져오기"
   ]
  },
  {
   "cell_type": "code",
   "execution_count": 1,
   "id": "af6b44c7-8235-4a4d-866f-e16a5d8e489c",
   "metadata": {
    "tags": []
   },
   "outputs": [
    {
     "data": {
      "text/html": [
       "<div>\n",
       "<style scoped>\n",
       "    .dataframe tbody tr th:only-of-type {\n",
       "        vertical-align: middle;\n",
       "    }\n",
       "\n",
       "    .dataframe tbody tr th {\n",
       "        vertical-align: top;\n",
       "    }\n",
       "\n",
       "    .dataframe thead th {\n",
       "        text-align: right;\n",
       "    }\n",
       "</style>\n",
       "<table border=\"1\" class=\"dataframe\">\n",
       "  <thead>\n",
       "    <tr style=\"text-align: right;\">\n",
       "      <th></th>\n",
       "      <th>no</th>\n",
       "      <th>cartype</th>\n",
       "      <th>receipttime</th>\n",
       "      <th>settime</th>\n",
       "      <th>ridetime</th>\n",
       "      <th>startpos1</th>\n",
       "      <th>startpos2</th>\n",
       "      <th>endpos1</th>\n",
       "      <th>endpos2</th>\n",
       "    </tr>\n",
       "  </thead>\n",
       "  <tbody>\n",
       "    <tr>\n",
       "      <th>0</th>\n",
       "      <td>6774</td>\n",
       "      <td>중형승합</td>\n",
       "      <td>2022-08-15 오전 12:09:00</td>\n",
       "      <td>2022-08-15 오전 1:07:46</td>\n",
       "      <td>2022-08-15 오전 1:32:14</td>\n",
       "      <td>서대문구</td>\n",
       "      <td>신촌동</td>\n",
       "      <td>서대문구</td>\n",
       "      <td>신촌동</td>\n",
       "    </tr>\n",
       "    <tr>\n",
       "      <th>1</th>\n",
       "      <td>7857</td>\n",
       "      <td>중형승합</td>\n",
       "      <td>2022-08-15 오전 12:09:00</td>\n",
       "      <td>2022-08-15 오전 1:19:40</td>\n",
       "      <td>2022-08-15 오전 1:50:32</td>\n",
       "      <td>용산구</td>\n",
       "      <td>남영동</td>\n",
       "      <td>강서구</td>\n",
       "      <td>방화제2동</td>\n",
       "    </tr>\n",
       "    <tr>\n",
       "      <th>2</th>\n",
       "      <td>7548</td>\n",
       "      <td>중형승합</td>\n",
       "      <td>2022-08-15 오전 12:26:00</td>\n",
       "      <td>2022-08-15 오전 1:36:30</td>\n",
       "      <td>2022-08-15 오전 1:49:34</td>\n",
       "      <td>강동구</td>\n",
       "      <td>명일제2동</td>\n",
       "      <td>서초구</td>\n",
       "      <td>내곡동</td>\n",
       "    </tr>\n",
       "    <tr>\n",
       "      <th>3</th>\n",
       "      <td>821</td>\n",
       "      <td>중형승합</td>\n",
       "      <td>2022-08-15 오전 12:38:00</td>\n",
       "      <td>2022-08-15 오전 2:55:25</td>\n",
       "      <td>2022-08-15 오전 3:24:46</td>\n",
       "      <td>성북구</td>\n",
       "      <td>월곡제2동</td>\n",
       "      <td>성북구</td>\n",
       "      <td>길음제2동</td>\n",
       "    </tr>\n",
       "    <tr>\n",
       "      <th>4</th>\n",
       "      <td>8029</td>\n",
       "      <td>중형 승합</td>\n",
       "      <td>2022-08-15 오전 12:46:00</td>\n",
       "      <td>2022-08-15 오전 1:31:29</td>\n",
       "      <td>2022-08-15 오전 2:03:53</td>\n",
       "      <td>강남구</td>\n",
       "      <td>수서동</td>\n",
       "      <td>강서구</td>\n",
       "      <td>화곡제1동</td>\n",
       "    </tr>\n",
       "  </tbody>\n",
       "</table>\n",
       "</div>"
      ],
      "text/plain": [
       "     no cartype             receipttime                settime  \\\n",
       "0  6774    중형승합  2022-08-15 오전 12:09:00  2022-08-15 오전 1:07:46   \n",
       "1  7857    중형승합  2022-08-15 오전 12:09:00  2022-08-15 오전 1:19:40   \n",
       "2  7548    중형승합  2022-08-15 오전 12:26:00  2022-08-15 오전 1:36:30   \n",
       "3   821    중형승합  2022-08-15 오전 12:38:00  2022-08-15 오전 2:55:25   \n",
       "4  8029   중형 승합  2022-08-15 오전 12:46:00  2022-08-15 오전 1:31:29   \n",
       "\n",
       "                ridetime startpos1 startpos2 endpos1 endpos2  \n",
       "0  2022-08-15 오전 1:32:14      서대문구       신촌동    서대문구     신촌동  \n",
       "1  2022-08-15 오전 1:50:32       용산구       남영동     강서구   방화제2동  \n",
       "2  2022-08-15 오전 1:49:34       강동구     명일제2동     서초구     내곡동  \n",
       "3  2022-08-15 오전 3:24:46       성북구     월곡제2동     성북구   길음제2동  \n",
       "4  2022-08-15 오전 2:03:53       강남구       수서동     강서구   화곡제1동  "
      ]
     },
     "execution_count": 1,
     "metadata": {},
     "output_type": "execute_result"
    }
   ],
   "source": [
    "import requests\n",
    "from bs4 import BeautifulSoup\n",
    "import urllib.request as urlreq\n",
    "import os.path\n",
    "import pandas as pd\n",
    "from datetime import datetime, timedelta\n",
    "\n",
    "res = requests.get(\"http://openapi.seoul.go.kr:8088/745a64744764756434305a43436175/xml/disabledCalltaxi/1/700/20220815\")\n",
    "soup = BeautifulSoup(res.text, 'lxml')\n",
    "info = []\n",
    "\n",
    "for location in soup.find_all('item') :\n",
    "    no = location.find('no').string  \n",
    "    cartype = location.find('cartype').string \n",
    "    receipttime = location.find('receipttime').string  \n",
    "    settime = location.find('settime').string \n",
    "    ridetime = location.find('ridetime').string\n",
    "    startpos1 = location.find('startpos1').string\n",
    "    startpos2 = location.find('startpos2').string\n",
    "    endpos1 = location.find('endpos1').string\n",
    "    endpos2 = location.find('endpos2').string\n",
    "    \n",
    "    info.append({'no': no, 'cartype': cartype, 'receipttime': receipttime, 'settime': settime, 'ridetime': ridetime, \n",
    "                 'startpos1': startpos1, 'startpos2': startpos2, 'endpos1': endpos1, 'endpos2': endpos2})\n",
    "\n",
    "columns=['no', 'cartype', 'receipttime', 'settime', 'ridetime', 'startpos1', 'startpos2', 'endpos1', 'endpos2']\n",
    "df = pd.DataFrame(info, columns = columns)\n",
    "df.head()"
   ]
  },
  {
   "cell_type": "markdown",
   "id": "d6ebf788-ae8a-4fc2-9ccf-25d586825603",
   "metadata": {},
   "source": [
    "## 1. 필요한 라이브러리 불러오기"
   ]
  },
  {
   "cell_type": "code",
   "execution_count": 2,
   "id": "36ec0a57-84b6-483f-a89b-860dfd672ad7",
   "metadata": {
    "tags": []
   },
   "outputs": [],
   "source": [
    "import requests\n",
    "from bs4 import BeautifulSoup\n",
    "import urllib.request as urlreq\n",
    "import os.path\n",
    "import pandas as pd\n",
    "from datetime import datetime, timedelta"
   ]
  },
  {
   "cell_type": "markdown",
   "id": "936ea257-487f-496f-b31f-f918e76b7794",
   "metadata": {
    "tags": []
   },
   "source": [
    "## 2. 날짜 리스트 만들기(21.04.28 ~ 22.08.15)"
   ]
  },
  {
   "cell_type": "code",
   "execution_count": 2,
   "id": "62d88d3d-2b62-4a7b-879a-9c9756210b8f",
   "metadata": {
    "tags": []
   },
   "outputs": [],
   "source": [
    "daytime = datetime.strptime(\"20210428\",\"%Y%m%d\")\n",
    "datetime_lst = []\n",
    "\n",
    "while True:\n",
    "    datetime_lst.append(daytime.strftime(\"%Y%m%d\"))\n",
    "    if daytime == daytime.strptime(\"20220815\",\"%Y%m%d\"):\n",
    "        break\n",
    "    daytime = daytime + timedelta(days=1)"
   ]
  },
  {
   "cell_type": "markdown",
   "id": "b4a7f466-7d3a-47f3-9eed-2eb3838b18f6",
   "metadata": {},
   "source": [
    "## 3. api url 리스트 만들기(21.04.28 ~ 22.08.15)"
   ]
  },
  {
   "cell_type": "code",
   "execution_count": 3,
   "id": "405da1d4-2c5b-4a95-ad3a-ba47df3731fa",
   "metadata": {},
   "outputs": [],
   "source": [
    "api_urls_lst = []\n",
    "api = \"http://openapi.seoul.go.kr:8088/745a64744764756434305a43436175/xml/disabledCalltaxi/1/700/\"\n",
    "for i in range(len(datetime_lst)):\n",
    "    api_urls_lst.append(api + datetime_lst[i])"
   ]
  },
  {
   "cell_type": "markdown",
   "id": "da310a66-c2db-4d04-a28c-8d80b9cbd257",
   "metadata": {},
   "source": [
    "## 4. for문을 활용한 DataFrame 생성"
   ]
  },
  {
   "cell_type": "code",
   "execution_count": 15,
   "id": "e9664361-1d7a-41a7-8ecb-6d5c963b7e2d",
   "metadata": {},
   "outputs": [
    {
     "data": {
      "text/html": [
       "<div>\n",
       "<style scoped>\n",
       "    .dataframe tbody tr th:only-of-type {\n",
       "        vertical-align: middle;\n",
       "    }\n",
       "\n",
       "    .dataframe tbody tr th {\n",
       "        vertical-align: top;\n",
       "    }\n",
       "\n",
       "    .dataframe thead th {\n",
       "        text-align: right;\n",
       "    }\n",
       "</style>\n",
       "<table border=\"1\" class=\"dataframe\">\n",
       "  <thead>\n",
       "    <tr style=\"text-align: right;\">\n",
       "      <th></th>\n",
       "      <th>no</th>\n",
       "      <th>cartype</th>\n",
       "      <th>receipttime</th>\n",
       "      <th>settime</th>\n",
       "      <th>ridetime</th>\n",
       "      <th>startpos1</th>\n",
       "      <th>startpos2</th>\n",
       "      <th>endpos1</th>\n",
       "      <th>endpos2</th>\n",
       "    </tr>\n",
       "  </thead>\n",
       "  <tbody>\n",
       "    <tr>\n",
       "      <th>0</th>\n",
       "      <td>8279</td>\n",
       "      <td>중형 승합</td>\n",
       "      <td>2022-04-13 오전 12:19:54</td>\n",
       "      <td>2022-04-13 오전 12:36:54</td>\n",
       "      <td>2022-04-13 오전 1:01:07</td>\n",
       "      <td>용산구</td>\n",
       "      <td>원효로제1동</td>\n",
       "      <td>관악구</td>\n",
       "      <td>청림동</td>\n",
       "    </tr>\n",
       "    <tr>\n",
       "      <th>1</th>\n",
       "      <td>8215</td>\n",
       "      <td>중형승합</td>\n",
       "      <td>2022-04-13 오전 12:26:00</td>\n",
       "      <td>2022-04-13 오전 12:30:04</td>\n",
       "      <td>2022-04-13 오전 12:50:02</td>\n",
       "      <td>동대문구</td>\n",
       "      <td>회기동</td>\n",
       "      <td>성동구</td>\n",
       "      <td>금호1가동</td>\n",
       "    </tr>\n",
       "    <tr>\n",
       "      <th>2</th>\n",
       "      <td>7640</td>\n",
       "      <td>중형승합</td>\n",
       "      <td>2022-04-13 오전 12:35:11</td>\n",
       "      <td>2022-04-13 오전 1:04:57</td>\n",
       "      <td>2022-04-13 오전 1:18:30</td>\n",
       "      <td>중랑구</td>\n",
       "      <td>중화제1동</td>\n",
       "      <td>성북구</td>\n",
       "      <td>길음제1동</td>\n",
       "    </tr>\n",
       "    <tr>\n",
       "      <th>3</th>\n",
       "      <td>7663</td>\n",
       "      <td>중형승합</td>\n",
       "      <td>2022-04-13 오전 12:36:00</td>\n",
       "      <td>2022-04-13 오전 1:08:35</td>\n",
       "      <td>2022-04-13 오전 1:25:53</td>\n",
       "      <td>강서구</td>\n",
       "      <td>가양제2동</td>\n",
       "      <td>광명시</td>\n",
       "      <td>하안3동</td>\n",
       "    </tr>\n",
       "    <tr>\n",
       "      <th>4</th>\n",
       "      <td>4974</td>\n",
       "      <td>중형 승합</td>\n",
       "      <td>2022-04-13 오전 12:38:00</td>\n",
       "      <td>2022-04-13 오전 1:09:19</td>\n",
       "      <td>2022-04-13 오전 1:38:10</td>\n",
       "      <td>중구</td>\n",
       "      <td>회현동</td>\n",
       "      <td>강북구</td>\n",
       "      <td>수유제3동</td>\n",
       "    </tr>\n",
       "  </tbody>\n",
       "</table>\n",
       "</div>"
      ],
      "text/plain": [
       "     no cartype             receipttime                 settime  \\\n",
       "0  8279   중형 승합  2022-04-13 오전 12:19:54  2022-04-13 오전 12:36:54   \n",
       "1  8215    중형승합  2022-04-13 오전 12:26:00  2022-04-13 오전 12:30:04   \n",
       "2  7640    중형승합  2022-04-13 오전 12:35:11   2022-04-13 오전 1:04:57   \n",
       "3  7663    중형승합  2022-04-13 오전 12:36:00   2022-04-13 오전 1:08:35   \n",
       "4  4974   중형 승합  2022-04-13 오전 12:38:00   2022-04-13 오전 1:09:19   \n",
       "\n",
       "                 ridetime startpos1 startpos2 endpos1 endpos2  \n",
       "0   2022-04-13 오전 1:01:07       용산구    원효로제1동     관악구     청림동  \n",
       "1  2022-04-13 오전 12:50:02      동대문구       회기동     성동구   금호1가동  \n",
       "2   2022-04-13 오전 1:18:30       중랑구     중화제1동     성북구   길음제1동  \n",
       "3   2022-04-13 오전 1:25:53       강서구     가양제2동     광명시    하안3동  \n",
       "4   2022-04-13 오전 1:38:10        중구       회현동     강북구   수유제3동  "
      ]
     },
     "execution_count": 15,
     "metadata": {},
     "output_type": "execute_result"
    }
   ],
   "source": [
    "frist_df = pd.DataFrame() # 빈 데이터프레임 생성\n",
    "final_df = pd.DataFrame() # 빈 데이터프레임 생성\n",
    "columns=['no', 'cartype', 'receipttime', 'settime', 'ridetime', 'startpos1', 'startpos2', 'endpos1', 'endpos2']\n",
    "\n",
    "for api in range(350, 400):\n",
    "    res = requests.get(api_urls_lst[api])\n",
    "    soup = BeautifulSoup(res.text, 'lxml')\n",
    "    info = []\n",
    "\n",
    "    for location in soup.find_all('item') :\n",
    "        no = location.find('no').string  \n",
    "        cartype = location.find('cartype').string \n",
    "        receipttime = location.find('receipttime').string  \n",
    "        settime = location.find('settime').string \n",
    "        ridetime = location.find('ridetime').string\n",
    "        startpos1 = location.find('startpos1').string\n",
    "        startpos2 = location.find('startpos2').string\n",
    "        endpos1 = location.find('endpos1').string\n",
    "        endpos2 = location.find('endpos2').string\n",
    "\n",
    "        info.append({'no': no, 'cartype': cartype, 'receipttime': receipttime, 'settime': settime, 'ridetime': ridetime, \n",
    "                     'startpos1': startpos1, 'startpos2': startpos2, 'endpos1': endpos1, 'endpos2': endpos2})\n",
    "    frist_df = pd.DataFrame(info, columns = columns)\n",
    "    final_df = pd.concat([final_df, frist_df])\n",
    "\n",
    "final_df.head()"
   ]
  },
  {
   "cell_type": "code",
   "execution_count": 16,
   "id": "e2fd5de1-5af1-4eb7-81dd-ee31105eb622",
   "metadata": {},
   "outputs": [
    {
     "data": {
      "text/html": [
       "<div>\n",
       "<style scoped>\n",
       "    .dataframe tbody tr th:only-of-type {\n",
       "        vertical-align: middle;\n",
       "    }\n",
       "\n",
       "    .dataframe tbody tr th {\n",
       "        vertical-align: top;\n",
       "    }\n",
       "\n",
       "    .dataframe thead th {\n",
       "        text-align: right;\n",
       "    }\n",
       "</style>\n",
       "<table border=\"1\" class=\"dataframe\">\n",
       "  <thead>\n",
       "    <tr style=\"text-align: right;\">\n",
       "      <th></th>\n",
       "      <th>no</th>\n",
       "      <th>cartype</th>\n",
       "      <th>receipttime</th>\n",
       "      <th>settime</th>\n",
       "      <th>ridetime</th>\n",
       "      <th>startpos1</th>\n",
       "      <th>startpos2</th>\n",
       "      <th>endpos1</th>\n",
       "      <th>endpos2</th>\n",
       "    </tr>\n",
       "  </thead>\n",
       "  <tbody>\n",
       "    <tr>\n",
       "      <th>1917</th>\n",
       "      <td>809</td>\n",
       "      <td>중형승합</td>\n",
       "      <td>2022-06-01 오후 11:35:18</td>\n",
       "      <td>2022-06-01 오후 11:40:11</td>\n",
       "      <td>2022-06-01 오후 11:59:12</td>\n",
       "      <td>서대문구</td>\n",
       "      <td>신촌동</td>\n",
       "      <td>구로구</td>\n",
       "      <td>오류제2동</td>\n",
       "    </tr>\n",
       "    <tr>\n",
       "      <th>1918</th>\n",
       "      <td>1554</td>\n",
       "      <td>중형 승합</td>\n",
       "      <td>2022-06-01 오후 11:40:00</td>\n",
       "      <td>2022-06-01 오후 11:46:11</td>\n",
       "      <td>2022-06-01 오후 11:55:42</td>\n",
       "      <td>도봉구</td>\n",
       "      <td>창제4동</td>\n",
       "      <td>성북구</td>\n",
       "      <td>길음제1동</td>\n",
       "    </tr>\n",
       "    <tr>\n",
       "      <th>1919</th>\n",
       "      <td>8069</td>\n",
       "      <td>중형 승합</td>\n",
       "      <td>2022-06-01 오후 11:46:04</td>\n",
       "      <td>2022-06-01 오후 11:48:21</td>\n",
       "      <td>2022-06-01 오후 11:58:52</td>\n",
       "      <td>금천구</td>\n",
       "      <td>독산제1동</td>\n",
       "      <td>영등포구</td>\n",
       "      <td>대림제2동</td>\n",
       "    </tr>\n",
       "    <tr>\n",
       "      <th>1920</th>\n",
       "      <td>8075</td>\n",
       "      <td>중형 승합</td>\n",
       "      <td>2022-06-01 오후 11:49:00</td>\n",
       "      <td>2022-06-02 오전 12:04:55</td>\n",
       "      <td>2022-06-02 오전 12:26:10</td>\n",
       "      <td>강서구</td>\n",
       "      <td>공항동</td>\n",
       "      <td>구로구</td>\n",
       "      <td>구로제2동</td>\n",
       "    </tr>\n",
       "    <tr>\n",
       "      <th>1921</th>\n",
       "      <td>8229</td>\n",
       "      <td>중형승합</td>\n",
       "      <td>2022-06-01 오후 11:49:05</td>\n",
       "      <td>2022-06-01 오후 11:50:05</td>\n",
       "      <td>2022-06-02 오전 12:16:03</td>\n",
       "      <td>중구</td>\n",
       "      <td>회현동</td>\n",
       "      <td>관악구</td>\n",
       "      <td>성현동</td>\n",
       "    </tr>\n",
       "  </tbody>\n",
       "</table>\n",
       "</div>"
      ],
      "text/plain": [
       "        no cartype             receipttime                 settime  \\\n",
       "1917   809    중형승합  2022-06-01 오후 11:35:18  2022-06-01 오후 11:40:11   \n",
       "1918  1554   중형 승합  2022-06-01 오후 11:40:00  2022-06-01 오후 11:46:11   \n",
       "1919  8069   중형 승합  2022-06-01 오후 11:46:04  2022-06-01 오후 11:48:21   \n",
       "1920  8075   중형 승합  2022-06-01 오후 11:49:00  2022-06-02 오전 12:04:55   \n",
       "1921  8229    중형승합  2022-06-01 오후 11:49:05  2022-06-01 오후 11:50:05   \n",
       "\n",
       "                    ridetime startpos1 startpos2 endpos1 endpos2  \n",
       "1917  2022-06-01 오후 11:59:12      서대문구       신촌동     구로구   오류제2동  \n",
       "1918  2022-06-01 오후 11:55:42       도봉구      창제4동     성북구   길음제1동  \n",
       "1919  2022-06-01 오후 11:58:52       금천구     독산제1동    영등포구   대림제2동  \n",
       "1920  2022-06-02 오전 12:26:10       강서구       공항동     구로구   구로제2동  \n",
       "1921  2022-06-02 오전 12:16:03        중구       회현동     관악구     성현동  "
      ]
     },
     "execution_count": 16,
     "metadata": {},
     "output_type": "execute_result"
    }
   ],
   "source": [
    "final_df.tail()"
   ]
  },
  {
   "cell_type": "code",
   "execution_count": 17,
   "id": "89b91abd-bbbd-4c65-a7d9-3cdc2759c56b",
   "metadata": {},
   "outputs": [
    {
     "data": {
      "text/plain": [
       "(187733, 9)"
      ]
     },
     "execution_count": 17,
     "metadata": {},
     "output_type": "execute_result"
    }
   ],
   "source": [
    "final_df.shape"
   ]
  },
  {
   "cell_type": "markdown",
   "id": "44778080-5737-4cb9-8ec5-fcecf08a6370",
   "metadata": {},
   "source": [
    "## 5. 생성된 DataFrame 저장"
   ]
  },
  {
   "cell_type": "code",
   "execution_count": 18,
   "id": "2505262f-292a-45a3-a2cf-08a2e9cd169c",
   "metadata": {},
   "outputs": [],
   "source": [
    "final_df.to_excel(\"data/장애인콜시스템(22.04.13 ~ 22.06.01).xlsx\")"
   ]
  }
 ],
 "metadata": {
  "kernelspec": {
   "display_name": "Python 3",
   "language": "python",
   "name": "python3"
  },
  "language_info": {
   "codemirror_mode": {
    "name": "ipython",
    "version": 3
   },
   "file_extension": ".py",
   "mimetype": "text/x-python",
   "name": "python",
   "nbconvert_exporter": "python",
   "pygments_lexer": "ipython3",
   "version": "3.8.8"
  }
 },
 "nbformat": 4,
 "nbformat_minor": 5
}
