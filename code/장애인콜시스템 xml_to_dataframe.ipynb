{
 "cells": [
  {
   "cell_type": "markdown",
   "id": "ac2719ee-bad6-472d-bb96-34a502570958",
   "metadata": {},
   "source": [
    "[날짜 구현](https://jsikim1.tistory.com/144)  \n",
    "[날짜 계산](https://jsikim1.tistory.com/143)  \n",
    "[날짜, 시간을 문자열로 변환](https://jsikim1.tistory.com/216)  \n",
    "[xml to dataframe (1)](https://w0lfydocoding.tistory.com/46)  \n",
    "[xml to dataframe (2)](https://rfriend.tistory.com/477)"
   ]
  },
  {
   "cell_type": "code",
   "execution_count": 1,
   "id": "36ec0a57-84b6-483f-a89b-860dfd672ad7",
   "metadata": {
    "tags": []
   },
   "outputs": [],
   "source": [
    "import requests\n",
    "from bs4 import BeautifulSoup\n",
    "import urllib.request as urlreq\n",
    "import os.path\n",
    "import pandas as pd\n",
    "from datetime import datetime, timedelta"
   ]
  },
  {
   "cell_type": "code",
   "execution_count": 2,
   "id": "eed0fb34-4ee4-46e7-b47d-d4fec9266f45",
   "metadata": {
    "tags": []
   },
   "outputs": [],
   "source": [
    "# 테스트 예시\n",
    "# res = requests.get(\"http://openapi.seoul.go.kr:8088/745a64744764756434305a43436175/xml/disabledCalltaxi/1/700/20210429\")\n",
    "# soup = BeautifulSoup(res.text, 'lxml')\n",
    "# info = []\n",
    "\n",
    "# for location in soup.find_all('item') :\n",
    "#     no = location.find('no').string  \n",
    "#     cartype = location.find('cartype').string \n",
    "#     receipttime = location.find('receipttime').string  \n",
    "#     settime = location.find('settime').string \n",
    "#     ridetime = location.find('ridetime').string\n",
    "#     startpos1 = location.find('startpos1').string\n",
    "#     startpos2 = location.find('startpos2').string\n",
    "#     endpos1 = location.find('endpos1').string\n",
    "#     endpos2 = location.find('endpos2').string\n",
    "    \n",
    "#     info.append({'no': no, 'cartype': cartype, 'receipttime': receipttime, 'settime': settime, 'ridetime': ridetime, \n",
    "#                  'startpos1': startpos1, 'startpos2': startpos2, 'endpos1': endpos1, 'endpos2': endpos2})\n",
    "\n",
    "# columns=['no', 'cartype', 'receipttime', 'settime', 'ridetime', 'startpos1', 'startpos2', 'endpos1', 'endpos2']\n",
    "# df = pd.DataFrame(info, columns = columns)\n",
    "# df.head()"
   ]
  },
  {
   "cell_type": "code",
   "execution_count": 3,
   "id": "f709d739-159c-4f80-89d7-d431197733fb",
   "metadata": {
    "tags": []
   },
   "outputs": [],
   "source": [
    "# 날짜 리스트 만들기(21.04.28 ~ 22.08.15)\n",
    "daytime = datetime.strptime(\"20210428\",\"%Y%m%d\")\n",
    "datetime_lst = []\n",
    "\n",
    "while True:\n",
    "    datetime_lst.append(daytime.strftime(\"%Y%m%d\"))\n",
    "    if daytime == daytime.strptime(\"20220815\",\"%Y%m%d\"):\n",
    "        break\n",
    "    daytime = daytime + timedelta(days=1)"
   ]
  },
  {
   "cell_type": "code",
   "execution_count": 4,
   "id": "b3dd3fea-02b5-4c91-a91a-669d4a54780b",
   "metadata": {},
   "outputs": [],
   "source": [
    "# api url 리스트 만들기(21.04.28 ~ 22.08.15)\n",
    "api_urls_lst = []\n",
    "api = \"http://openapi.seoul.go.kr:8088/745a64744764756434305a43436175/xml/disabledCalltaxi/1/700/\"\n",
    "for i in range(len(datetime_lst)):\n",
    "    api_urls_lst.append(api + datetime_lst[i])"
   ]
  },
  {
   "cell_type": "code",
   "execution_count": null,
   "id": "e9664361-1d7a-41a7-8ecb-6d5c963b7e2d",
   "metadata": {},
   "outputs": [],
   "source": [
    "frist_df = pd.DataFrame() # 빈 데이터프레임 생성\n",
    "final_df = pd.DataFrame() # 빈 데이터프레임 생성\n",
    "columns=['no', 'cartype', 'receipttime', 'settime', 'ridetime', 'startpos1', 'startpos2', 'endpos1', 'endpos2']\n",
    "\n",
    "for api in range(100, 200):\n",
    "    res = requests.get(api_urls_lst[api])\n",
    "    soup = BeautifulSoup(res.text, 'lxml')\n",
    "    info = []\n",
    "\n",
    "    for location in soup.find_all('item') :\n",
    "        no = location.find('no').string  \n",
    "        cartype = location.find('cartype').string \n",
    "        receipttime = location.find('receipttime').string  \n",
    "        settime = location.find('settime').string \n",
    "        ridetime = location.find('ridetime').string\n",
    "        startpos1 = location.find('startpos1').string\n",
    "        startpos2 = location.find('startpos2').string\n",
    "        endpos1 = location.find('endpos1').string\n",
    "        endpos2 = location.find('endpos2').string\n",
    "\n",
    "        info.append({'no': no, 'cartype': cartype, 'receipttime': receipttime, 'settime': settime, 'ridetime': ridetime, \n",
    "                     'startpos1': startpos1, 'startpos2': startpos2, 'endpos1': endpos1, 'endpos2': endpos2})\n",
    "    frist_df = pd.DataFrame(info, columns = columns)\n",
    "    final_df = pd.concat([final_df, frist_df])\n",
    "\n",
    "# df = pd.DataFrame(info, columns = columns)\n",
    "final_df.head()\n",
    "    \n",
    "# res = requests.get(\"http://openapi.seoul.go.kr:8088/745a64744764756434305a43436175/xml/disabledCalltaxi/1/700/20210429\")\n",
    "# soup = BeautifulSoup(res.text, 'lxml')\n",
    "# info = []\n",
    "\n",
    "# for location in soup.find_all('item') :\n",
    "#     no = location.find('no').string  \n",
    "#     cartype = location.find('cartype').string \n",
    "#     receipttime = location.find('receipttime').string  \n",
    "#     settime = location.find('settime').string \n",
    "#     ridetime = location.find('ridetime').string\n",
    "#     startpos1 = location.find('startpos1').string\n",
    "#     startpos2 = location.find('startpos2').string\n",
    "#     endpos1 = location.find('endpos1').string\n",
    "#     endpos2 = location.find('endpos2').string\n",
    "    \n",
    "#     info.append({'no': no, 'cartype': cartype, 'receipttime': receipttime, 'settime': settime, 'ridetime': ridetime, \n",
    "#                  'startpos1': startpos1, 'startpos2': startpos2, 'endpos1': endpos1, 'endpos2': endpos2})\n",
    "\n",
    "# columns=['no', 'cartype', 'receipttime', 'settime', 'ridetime', 'startpos1', 'startpos2', 'endpos1', 'endpos2']\n",
    "# df = pd.DataFrame(info, columns = columns)\n",
    "# df.head()"
   ]
  },
  {
   "cell_type": "code",
   "execution_count": null,
   "id": "e2fd5de1-5af1-4eb7-81dd-ee31105eb622",
   "metadata": {},
   "outputs": [],
   "source": [
    "final_df.tail()"
   ]
  },
  {
   "cell_type": "code",
   "execution_count": null,
   "id": "89b91abd-bbbd-4c65-a7d9-3cdc2759c56b",
   "metadata": {},
   "outputs": [],
   "source": [
    "final_df.shape"
   ]
  },
  {
   "cell_type": "code",
   "execution_count": null,
   "id": "2505262f-292a-45a3-a2cf-08a2e9cd169c",
   "metadata": {},
   "outputs": [],
   "source": [
    "final_df.to_excel(\"data/장애인콜시스템(21.08.06 ~ 21.11.13).xlsx\")"
   ]
  },
  {
   "cell_type": "code",
   "execution_count": null,
   "id": "b01293e6-cdad-4759-855a-1cdc830c7247",
   "metadata": {},
   "outputs": [],
   "source": []
  }
 ],
 "metadata": {
  "kernelspec": {
   "display_name": "Python 3",
   "language": "python",
   "name": "python3"
  },
  "language_info": {
   "codemirror_mode": {
    "name": "ipython",
    "version": 3
   },
   "file_extension": ".py",
   "mimetype": "text/x-python",
   "name": "python",
   "nbconvert_exporter": "python",
   "pygments_lexer": "ipython3",
   "version": "3.8.8"
  }
 },
 "nbformat": 4,
 "nbformat_minor": 5
}
