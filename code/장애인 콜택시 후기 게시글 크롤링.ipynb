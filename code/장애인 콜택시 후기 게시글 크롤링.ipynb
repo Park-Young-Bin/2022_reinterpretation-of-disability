{
 "cells": [
  {
   "cell_type": "markdown",
   "id": "3ce581fd-e381-4ac0-ab69-ae04bc1a0347",
   "metadata": {},
   "source": [
    "## 장애인 콜택시 후기 게시글 크롤링\n",
    "\n",
    "**[방법]**\n",
    "\n",
    "1. 홈페이지 접속(1페이지 접속)\n",
    "1. 첫 게시글의 작성일(day) 추출 후 저장\n",
    "1. 첫 게시글 접속\n",
    "1. 첫 게시글의 제목(title) 추출 후 리스트 저장\n",
    "1. 첫 게시글 내용(content) 추출 후 리스트 저장\n",
    "1. 목록 이동\n",
    "1. 두 번째 게시글도 이와 같은 방법\n",
    "1. 1페이지 완료 후 2페이지 이동\n",
    "1. 1~8 반복"
   ]
  },
  {
   "cell_type": "markdown",
   "id": "b6c182e8-9f28-4b7e-a4c6-7d9a9c719984",
   "metadata": {},
   "source": [
    "### 제목(규칙 존재)\n",
    "\n",
    "1. 1번째 제목. //*[@id=\"detail_con\"]/div[3]/table/tbody/tr[**1**]/td[2]/a\n",
    "2. 2번째 제목. //*[@id=\"detail_con\"]/div[3]/table/tbody/tr[**2**]/td[2]/a\n",
    "\n",
    "...\n",
    "\n",
    "10. 10번째 제목. //*[@id=\"detail_con\"]/div[3]/table/tbody/tr[**10**]/td[2]/a"
   ]
  },
  {
   "cell_type": "markdown",
   "id": "f95cadd1-d55f-4d67-b73b-7b4c65fa5b7a",
   "metadata": {},
   "source": [
    "### 게시글(규칙 존재)\n",
    "\n",
    "1번째 게시글. //*[@id=\"detail_con\"]/div[3]/table/tbody/tr[**1**]/td[2]/a  \n",
    "2번째 게시글.  //*[@id=\"detail_con\"]/div[3]/table/tbody/tr[**2**]/td[2]/a  \n",
    "\n",
    "...\n",
    "\n",
    "9번째 게시글. //*[@id=\"detail_con\"]/div[3]/table/tbody/tr[**9**]/td[2]/a  \n",
    "10번째 게시글. //*[@id=\"detail_con\"]/div[3]/table/tbody/tr[**10**]/td[2]/a"
   ]
  },
  {
   "cell_type": "markdown",
   "id": "b12401b1-aa62-465f-85c5-6aa5ad5ab533",
   "metadata": {},
   "source": [
    "### 작성일(규칙 존재)\n",
    "\n",
    "1번째 게시글 작성일. //*[@id=\"detail_con\"]/div[3]/table/tbody/tr[1]/td[3]   \n",
    "2번째 게시글 작성일. //*[@id=\"detail_con\"]/div[3]/table/tbody/tr[2]/td[3] \n",
    "\n",
    "...\n",
    "\n",
    "10번째 게시글 작성일. //*[@id=\"detail_con\"]/div[3]/table/tbody/tr[10]/td[3] "
   ]
  },
  {
   "cell_type": "markdown",
   "id": "da2cea9c-35f4-41c1-952f-0a1e635d24ad",
   "metadata": {},
   "source": [
    "### 페이지(규칙 존재) → 21.09.22 ~ 22.06.30까지 (1~15 페이지까지 / 22.07.17 기준)\n",
    "\n",
    "2 페이지. //*[@id=\"detail_con\"]/div[3]/div/ul/li[**4**]/a  \n",
    "3 페이지. //*[@id=\"detail_con\"]/div[3]/div/ul/li[**5**]/a  \n",
    "4 페이지. //*[@id=\"detail_con\"]/div[3]/div/ul/li[**6**]/a \n",
    "\n",
    "...\n",
    "\n",
    "10 페이지. //*[@id=\"detail_con\"]/div[3]/div/ul/li[**12**]/a  \n",
    "\n",
    "--**페이지 전환**--\n",
    "\n",
    "11 페이지. //*[@id=\"detail_con\"]/div[3]/div/ul/li[**3**]/a  \n",
    "12 페이지. //*[@id=\"detail_con\"]/div[3]/div/ul/li[**4**]/a  \n",
    "...  \n",
    "15 페이지. //*[@id=\"detail_con\"]/div[3]/div/ul/li[**7**]/a"
   ]
  },
  {
   "cell_type": "markdown",
   "id": "83189258-0092-4174-b64e-cb397b7e82ec",
   "metadata": {},
   "source": [
    "---\n",
    "---"
   ]
  },
  {
   "cell_type": "markdown",
   "id": "18f9fd04-e3c2-4d00-b249-ca4d4c9e9b3b",
   "metadata": {},
   "source": [
    "### 알고리즘\n",
    "\n",
    "1페이지 1번째 게시글 크롤링 구동 확인"
   ]
  },
  {
   "cell_type": "code",
   "execution_count": 1,
   "id": "ac52b55b-ea53-4682-bbe3-3262ee5d46b0",
   "metadata": {},
   "outputs": [],
   "source": [
    "import urllib.request\n",
    "from selenium import webdriver\n",
    "import time"
   ]
  },
  {
   "cell_type": "code",
   "execution_count": 3,
   "id": "22e7563f-cb26-472b-9728-603bdeab5e71",
   "metadata": {},
   "outputs": [],
   "source": [
    "# 드라이버를 실행하여, 웹페이지 열기\n",
    "driver = webdriver.Chrome('chromedriver')\n",
    "driver.get('https://www.sisul.or.kr/open_content/calltaxi/community/citizen.jsp')"
   ]
  },
  {
   "cell_type": "code",
   "execution_count": 4,
   "id": "8396a0b5-6942-43e8-a73d-8244bf48f735",
   "metadata": {},
   "outputs": [
    {
     "data": {
      "text/plain": [
       "'2022.07.14'"
      ]
     },
     "execution_count": 4,
     "metadata": {},
     "output_type": "execute_result"
    }
   ],
   "source": [
    "# 날짜 출력\n",
    "day = driver.find_element_by_xpath('//*[@id=\"detail_con\"]/div[3]/table/tbody/tr[1]/td[3]')\n",
    "day.text"
   ]
  },
  {
   "cell_type": "code",
   "execution_count": 5,
   "id": "13430301-7f93-4228-8778-3eeaf961f1c2",
   "metadata": {},
   "outputs": [],
   "source": [
    "# 1페이지 1번째 게시글 접속\n",
    "driver.find_element_by_xpath('//*[@id=\"detail_con\"]/div[3]/table/tbody/tr[1]/td[2]/a').click()"
   ]
  },
  {
   "cell_type": "code",
   "execution_count": 6,
   "id": "74c0276a-c3ab-46cd-b089-90831490c223",
   "metadata": {},
   "outputs": [
    {
     "data": {
      "text/plain": [
       "'서울31사9681기사님을칭찬합니다'"
      ]
     },
     "execution_count": 6,
     "metadata": {},
     "output_type": "execute_result"
    }
   ],
   "source": [
    "# 제목 출력\n",
    "title = driver.find_element_by_xpath('//*[@id=\"detail_con\"]/div[2]/table[1]/thead/tr/td')\n",
    "title.text"
   ]
  },
  {
   "cell_type": "code",
   "execution_count": 7,
   "id": "6afafdc0-be74-4e33-98f3-e47b9a541f53",
   "metadata": {},
   "outputs": [
    {
     "data": {
      "text/plain": [
       "'2022년7월14일목요일에 퇴근할때배차됐는데 기사님께서 아이오닉5로바꾸기전에\\n저를태운거를 기억해주어고맙고 승하차시 개문 사고예방을위에 차를바짝대고 내리셔서 승하차해주고 장애인들위해안전운행 해주어서고마운마음으로 서울31사9681기사님을칭찬합니다.\\n항상화이팅하시고 좋은하루되시고 안전운행하세요.'"
      ]
     },
     "execution_count": 7,
     "metadata": {},
     "output_type": "execute_result"
    }
   ],
   "source": [
    "# 내용 출력\n",
    "sentence = driver.find_element_by_xpath('//*[@id=\"detail_con\"]/div[2]/table[1]/tbody/tr[3]/td')\n",
    "sentence.text"
   ]
  },
  {
   "cell_type": "code",
   "execution_count": 8,
   "id": "f40daf5e-8753-4bbd-9249-dc8fb9e58caf",
   "metadata": {},
   "outputs": [],
   "source": [
    "# 목록 이동\n",
    "driver.find_element_by_xpath('//*[@id=\"detail_con\"]/div[2]/p/a').click()"
   ]
  },
  {
   "cell_type": "markdown",
   "id": "c77e57a3-fe6b-44b3-9cb2-62efa815e123",
   "metadata": {},
   "source": [
    "---"
   ]
  },
  {
   "cell_type": "markdown",
   "id": "fa5482fd-c578-45b9-ae71-cf94d6eb8613",
   "metadata": {},
   "source": [
    "### 크롤링 실전(for문 사용)\n",
    "#### 1 ~ 10페이지(22.01.05~22.07.14)"
   ]
  },
  {
   "cell_type": "code",
   "execution_count": 9,
   "id": "298468c7-a51f-44a1-9a6e-d7140a2e81a3",
   "metadata": {},
   "outputs": [],
   "source": [
    "import urllib.request\n",
    "from selenium import webdriver\n",
    "import time"
   ]
  },
  {
   "cell_type": "code",
   "execution_count": 10,
   "id": "6531a903-110b-4660-943a-b041aec543fc",
   "metadata": {},
   "outputs": [],
   "source": [
    "# 드라이버를 실행하여, 웹페이지 열기\n",
    "driver = webdriver.Chrome('chromedriver')\n",
    "driver.get('https://www.sisul.or.kr/open_content/calltaxi/community/citizen.jsp')"
   ]
  },
  {
   "cell_type": "code",
   "execution_count": 11,
   "id": "9e536877-93c2-4fd1-9905-bdaa6ad94aad",
   "metadata": {},
   "outputs": [],
   "source": [
    "title_list = [] # 제목\n",
    "content_list = [] # 내용\n",
    "day_list = [] # 작성날짜\n",
    "\n",
    "for j in range(1, 11): # 페이지 for문\n",
    "    for i in range(1, 11): # 게시글 for문\n",
    "        day = driver.find_element_by_xpath('//*[@id=\"detail_con\"]/div[3]/table/tbody/tr['+str(i)+']/td[3]') # 작성일 복사\n",
    "        day_list.append(day.text) # 작성일 저장\n",
    "        driver.implicitly_wait(10)\n",
    "        driver.find_element_by_xpath('//*[@id=\"detail_con\"]/div[3]/table/tbody/tr['+str(i)+']/td[2]/a').click() # 게시글 선택\n",
    "        title = driver.find_element_by_xpath('//*[@id=\"detail_con\"]/div[2]/table[1]/thead/tr/td') # 제목 복사\n",
    "        sentence = driver.find_element_by_xpath('//*[@id=\"detail_con\"]/div[2]/table[1]/tbody/tr[3]/td') # 내용 복사\n",
    "        driver.implicitly_wait(10)\n",
    "        title_list.append(title.text) # 제목 저장\n",
    "        content_list.append(sentence.text) # 내용 저장\n",
    "        driver.find_element_by_xpath('//*[@id=\"detail_con\"]/div[2]/p/a').click() # 목록 이동\n",
    "    driver.find_element_by_xpath('//*[@id=\"detail_con\"]/div[3]/div/ul/li['+str(j+3)+']/a').click() # 페이지 선택(4 ~ 12)\n",
    "    driver.implicitly_wait(10)"
   ]
  },
  {
   "cell_type": "code",
   "execution_count": 12,
   "id": "f6bc9dfa-ecfd-44a7-aa0d-9c39e0dcf63c",
   "metadata": {},
   "outputs": [
    {
     "data": {
      "text/html": [
       "<div>\n",
       "<style scoped>\n",
       "    .dataframe tbody tr th:only-of-type {\n",
       "        vertical-align: middle;\n",
       "    }\n",
       "\n",
       "    .dataframe tbody tr th {\n",
       "        vertical-align: top;\n",
       "    }\n",
       "\n",
       "    .dataframe thead th {\n",
       "        text-align: right;\n",
       "    }\n",
       "</style>\n",
       "<table border=\"1\" class=\"dataframe\">\n",
       "  <thead>\n",
       "    <tr style=\"text-align: right;\">\n",
       "      <th></th>\n",
       "      <th>작성일</th>\n",
       "      <th>제목</th>\n",
       "      <th>내용</th>\n",
       "    </tr>\n",
       "  </thead>\n",
       "  <tbody>\n",
       "    <tr>\n",
       "      <th>0</th>\n",
       "      <td>2022.07.14</td>\n",
       "      <td>서울31사9681기사님을칭찬합니다</td>\n",
       "      <td>2022년7월14일목요일에 퇴근할때배차됐는데 기사님께서 아이오닉5로바꾸기전에\\n저를...</td>\n",
       "    </tr>\n",
       "    <tr>\n",
       "      <th>1</th>\n",
       "      <td>2022.07.14</td>\n",
       "      <td>차량 번호 우 718268 기사 님 칭찬 합니다.</td>\n",
       "      <td>7월13일 차량 번호 우 718268 기사 님 칭찬합니다\\n홈페이지에 글을 올립니다...</td>\n",
       "    </tr>\n",
       "    <tr>\n",
       "      <th>2</th>\n",
       "      <td>2022.07.12</td>\n",
       "      <td>서울31바5688홍현종기사님하고 서울32자3803이재익기사님을칭찬합니다.</td>\n",
       "      <td>2022년7월11일 월요일에\\n퇴근할때배차가 되었는데\\n기사님께 동네정지훈고객님 태...</td>\n",
       "    </tr>\n",
       "    <tr>\n",
       "      <th>3</th>\n",
       "      <td>2022.07.12</td>\n",
       "      <td>장애인콜택시 이용시 동행콜을 강요하지 말아주세요-답변이 이해가 안됩니다</td>\n",
       "      <td>우선 답변에 감사드리고요.\\n\\n또 정확히 확인을 해주셔서 감사드립니다.\\n\\n그러...</td>\n",
       "    </tr>\n",
       "    <tr>\n",
       "      <th>4</th>\n",
       "      <td>2022.07.11</td>\n",
       "      <td>장애인콜택시 이용시 동행콜을 강요하지 말아주세요</td>\n",
       "      <td>안녕하세요.\\n\\n현재 장애인콜택시 이용시 동행콜이라는 제도가 생겨서 유용하게 잘 ...</td>\n",
       "    </tr>\n",
       "  </tbody>\n",
       "</table>\n",
       "</div>"
      ],
      "text/plain": [
       "          작성일                                        제목  \\\n",
       "0  2022.07.14                        서울31사9681기사님을칭찬합니다   \n",
       "1  2022.07.14               차량 번호 우 718268 기사 님 칭찬 합니다.   \n",
       "2  2022.07.12  서울31바5688홍현종기사님하고 서울32자3803이재익기사님을칭찬합니다.   \n",
       "3  2022.07.12   장애인콜택시 이용시 동행콜을 강요하지 말아주세요-답변이 이해가 안됩니다   \n",
       "4  2022.07.11                장애인콜택시 이용시 동행콜을 강요하지 말아주세요   \n",
       "\n",
       "                                                  내용  \n",
       "0  2022년7월14일목요일에 퇴근할때배차됐는데 기사님께서 아이오닉5로바꾸기전에\\n저를...  \n",
       "1  7월13일 차량 번호 우 718268 기사 님 칭찬합니다\\n홈페이지에 글을 올립니다...  \n",
       "2  2022년7월11일 월요일에\\n퇴근할때배차가 되었는데\\n기사님께 동네정지훈고객님 태...  \n",
       "3  우선 답변에 감사드리고요.\\n\\n또 정확히 확인을 해주셔서 감사드립니다.\\n\\n그러...  \n",
       "4  안녕하세요.\\n\\n현재 장애인콜택시 이용시 동행콜이라는 제도가 생겨서 유용하게 잘 ...  "
      ]
     },
     "execution_count": 12,
     "metadata": {},
     "output_type": "execute_result"
    }
   ],
   "source": [
    "import pandas as pd\n",
    "\n",
    "df1 = pd.DataFrame({'작성일':day_list, '제목':title_list, '내용':content_list})\n",
    "df1.head()"
   ]
  },
  {
   "cell_type": "code",
   "execution_count": 22,
   "id": "90dcb93c-ce1c-47f8-82ea-db2a1a3f4e04",
   "metadata": {},
   "outputs": [
    {
     "data": {
      "text/html": [
       "<div>\n",
       "<style scoped>\n",
       "    .dataframe tbody tr th:only-of-type {\n",
       "        vertical-align: middle;\n",
       "    }\n",
       "\n",
       "    .dataframe tbody tr th {\n",
       "        vertical-align: top;\n",
       "    }\n",
       "\n",
       "    .dataframe thead th {\n",
       "        text-align: right;\n",
       "    }\n",
       "</style>\n",
       "<table border=\"1\" class=\"dataframe\">\n",
       "  <thead>\n",
       "    <tr style=\"text-align: right;\">\n",
       "      <th></th>\n",
       "      <th>작성일</th>\n",
       "      <th>제목</th>\n",
       "      <th>내용</th>\n",
       "    </tr>\n",
       "  </thead>\n",
       "  <tbody>\n",
       "    <tr>\n",
       "      <th>95</th>\n",
       "      <td>2022.01.10</td>\n",
       "      <td>71우8263면목차고지김태국주임님을칭찬합니다.</td>\n",
       "      <td>가끔배차돼면 김태국주임님께서저한테잘해주고 차도깨끗하고 웃으면서인사해주고\\n장애인들위...</td>\n",
       "    </tr>\n",
       "    <tr>\n",
       "      <th>96</th>\n",
       "      <td>2022.01.07</td>\n",
       "      <td>77주6394 김홍래기사님 칭찬합니다</td>\n",
       "      <td>77주 6394 김홍래기사님을 칭찬합니다.\\n짐이 많아 승하차시 걱정했는데 기사님께...</td>\n",
       "    </tr>\n",
       "    <tr>\n",
       "      <th>97</th>\n",
       "      <td>2022.01.06</td>\n",
       "      <td>71우8159면목차고지정규성주임님을칭찬합니다.</td>\n",
       "      <td>정규성주임님차가깨끗해서기분좋고\\n따뜻하게인사해주고 항상저한테잘해주고\\n장애인들위해안...</td>\n",
       "    </tr>\n",
       "    <tr>\n",
       "      <th>98</th>\n",
       "      <td>2022.01.05</td>\n",
       "      <td>아이폰용 장애인콜택시 어플 언제 업데이트 하나요?</td>\n",
       "      <td>작년 11월 29일에 아이폰용 장애인콜택시 어플 실행 오류와 업데이트에 관해 문의글...</td>\n",
       "    </tr>\n",
       "    <tr>\n",
       "      <th>99</th>\n",
       "      <td>2022.01.05</td>\n",
       "      <td>75마5786 류정현 기사님 칭찬해주세요♡</td>\n",
       "      <td>너무 친절하게 대해주셔서 감사드려요~~^---^♡♡♡♡♡♡류정현기사님사랑합니다~~~...</td>\n",
       "    </tr>\n",
       "  </tbody>\n",
       "</table>\n",
       "</div>"
      ],
      "text/plain": [
       "           작성일                           제목  \\\n",
       "95  2022.01.10    71우8263면목차고지김태국주임님을칭찬합니다.   \n",
       "96  2022.01.07         77주6394 김홍래기사님 칭찬합니다   \n",
       "97  2022.01.06    71우8159면목차고지정규성주임님을칭찬합니다.   \n",
       "98  2022.01.05  아이폰용 장애인콜택시 어플 언제 업데이트 하나요?   \n",
       "99  2022.01.05      75마5786 류정현 기사님 칭찬해주세요♡   \n",
       "\n",
       "                                                   내용  \n",
       "95  가끔배차돼면 김태국주임님께서저한테잘해주고 차도깨끗하고 웃으면서인사해주고\\n장애인들위...  \n",
       "96  77주 6394 김홍래기사님을 칭찬합니다.\\n짐이 많아 승하차시 걱정했는데 기사님께...  \n",
       "97  정규성주임님차가깨끗해서기분좋고\\n따뜻하게인사해주고 항상저한테잘해주고\\n장애인들위해안...  \n",
       "98  작년 11월 29일에 아이폰용 장애인콜택시 어플 실행 오류와 업데이트에 관해 문의글...  \n",
       "99  너무 친절하게 대해주셔서 감사드려요~~^---^♡♡♡♡♡♡류정현기사님사랑합니다~~~...  "
      ]
     },
     "execution_count": 22,
     "metadata": {},
     "output_type": "execute_result"
    }
   ],
   "source": [
    "df1.tail()"
   ]
  },
  {
   "cell_type": "code",
   "execution_count": 27,
   "id": "79169849-970b-421c-97bd-c96e2b8c68ef",
   "metadata": {},
   "outputs": [
    {
     "data": {
      "text/plain": [
       "(100, 3)"
      ]
     },
     "execution_count": 27,
     "metadata": {},
     "output_type": "execute_result"
    }
   ],
   "source": [
    "df1.shape"
   ]
  },
  {
   "cell_type": "markdown",
   "id": "86133c5a-aaad-4ff4-8ca5-1393a2c49fe6",
   "metadata": {},
   "source": [
    "#### 11 ~ 15 페이지(21.09.18 ~ 21.12.24)"
   ]
  },
  {
   "cell_type": "code",
   "execution_count": 19,
   "id": "3b3b76ad-d457-4d8a-8efe-b3df09416177",
   "metadata": {},
   "outputs": [],
   "source": [
    "# 드라이버를 실행하여, 웹페이지 열기\n",
    "driver = webdriver.Chrome('chromedriver')\n",
    "driver.get('https://www.sisul.or.kr/open_content/calltaxi/qna/qnaMsgList.do?pgno=11')"
   ]
  },
  {
   "cell_type": "code",
   "execution_count": 20,
   "id": "8b5ba878-3577-40d1-b11c-18d4841d8788",
   "metadata": {},
   "outputs": [],
   "source": [
    "title_list = [] # 제목\n",
    "content_list = [] # 내용\n",
    "day_list = [] # 작성날짜\n",
    "\n",
    "for j in range(1, 6): # 페이지(11 ~ 15 페이지) for문\n",
    "    for i in range(1, 11): # 게시글 for문\n",
    "        day = driver.find_element_by_xpath('//*[@id=\"detail_con\"]/div[3]/table/tbody/tr['+str(i)+']/td[3]') # 작성일 복사\n",
    "        day_list.append(day.text) # 작성일 저장\n",
    "        driver.implicitly_wait(10)\n",
    "        driver.find_element_by_xpath('//*[@id=\"detail_con\"]/div[3]/table/tbody/tr['+str(i)+']/td[2]/a').click() # 게시글 선택\n",
    "        title = driver.find_element_by_xpath('//*[@id=\"detail_con\"]/div[2]/table[1]/thead/tr/td') # 제목 복사\n",
    "        sentence = driver.find_element_by_xpath('//*[@id=\"detail_con\"]/div[2]/table[1]/tbody/tr[3]/td') # 내용 복사\n",
    "        driver.implicitly_wait(10)\n",
    "        title_list.append(title.text) # 제목 저장\n",
    "        content_list.append(sentence.text) # 내용 저장\n",
    "        driver.find_element_by_xpath('//*[@id=\"detail_con\"]/div[2]/p/a').click() # 목록 이동\n",
    "    driver.find_element_by_xpath('//*[@id=\"detail_con\"]/div[3]/div/ul/li['+str(j+3)+']/a').click() # 페이지 선택(4 ~ 12)\n",
    "    driver.implicitly_wait(10)"
   ]
  },
  {
   "cell_type": "code",
   "execution_count": 21,
   "id": "c091dd44-3ff9-4795-a097-c2fcf4f61a6b",
   "metadata": {},
   "outputs": [
    {
     "data": {
      "text/html": [
       "<div>\n",
       "<style scoped>\n",
       "    .dataframe tbody tr th:only-of-type {\n",
       "        vertical-align: middle;\n",
       "    }\n",
       "\n",
       "    .dataframe tbody tr th {\n",
       "        vertical-align: top;\n",
       "    }\n",
       "\n",
       "    .dataframe thead th {\n",
       "        text-align: right;\n",
       "    }\n",
       "</style>\n",
       "<table border=\"1\" class=\"dataframe\">\n",
       "  <thead>\n",
       "    <tr style=\"text-align: right;\">\n",
       "      <th></th>\n",
       "      <th>작성일</th>\n",
       "      <th>제목</th>\n",
       "      <th>내용</th>\n",
       "    </tr>\n",
       "  </thead>\n",
       "  <tbody>\n",
       "    <tr>\n",
       "      <th>0</th>\n",
       "      <td>2021.12.24</td>\n",
       "      <td>77라7936으로운행하다가8141로바꾼 유준열주임님을칭찬합니다.</td>\n",
       "      <td>2년에서3년전에 신촌세브란스병원에서\\n면목동집에갈때 77라7936으로배차됐는데 저를...</td>\n",
       "    </tr>\n",
       "    <tr>\n",
       "      <th>1</th>\n",
       "      <td>2021.12.23</td>\n",
       "      <td>장애인 콜택시 3시간 기다렸습니다.</td>\n",
       "      <td>안녕하세요? 저는 오늘 너무 화가 나고 슬펐습니다. 저는 장애아동을 키우고 있습니다...</td>\n",
       "    </tr>\n",
       "    <tr>\n",
       "      <th>2</th>\n",
       "      <td>2021.12.23</td>\n",
       "      <td>보고싶은서울32사5765박영길기사님을칭찬합니다</td>\n",
       "      <td>작년에 신촌세브란스병원에서 상봉동갈때\\n배차됐는데 저를기억해주고 차도깨끗해서기분좋고...</td>\n",
       "    </tr>\n",
       "    <tr>\n",
       "      <th>3</th>\n",
       "      <td>2021.12.17</td>\n",
       "      <td>마스크 못쓰는 발달지체 영유아의 장애인택시 이용</td>\n",
       "      <td>발달지체 영유아가 아니라 일반 영유아의 경우에도 마스크 미착용 시 승차거부를 할 수...</td>\n",
       "    </tr>\n",
       "    <tr>\n",
       "      <th>4</th>\n",
       "      <td>2021.12.16</td>\n",
       "      <td>71우8239오현철주임님을칭찬합니다.</td>\n",
       "      <td>오늘 면목동에서경희의료원갈때\\n배차？는데 반갑게인사해주고 차도깨끗하고 장애인들위해안...</td>\n",
       "    </tr>\n",
       "  </tbody>\n",
       "</table>\n",
       "</div>"
      ],
      "text/plain": [
       "          작성일                                   제목  \\\n",
       "0  2021.12.24  77라7936으로운행하다가8141로바꾼 유준열주임님을칭찬합니다.   \n",
       "1  2021.12.23                  장애인 콜택시 3시간 기다렸습니다.   \n",
       "2  2021.12.23            보고싶은서울32사5765박영길기사님을칭찬합니다   \n",
       "3  2021.12.17           마스크 못쓰는 발달지체 영유아의 장애인택시 이용   \n",
       "4  2021.12.16                 71우8239오현철주임님을칭찬합니다.   \n",
       "\n",
       "                                                  내용  \n",
       "0  2년에서3년전에 신촌세브란스병원에서\\n면목동집에갈때 77라7936으로배차됐는데 저를...  \n",
       "1  안녕하세요? 저는 오늘 너무 화가 나고 슬펐습니다. 저는 장애아동을 키우고 있습니다...  \n",
       "2  작년에 신촌세브란스병원에서 상봉동갈때\\n배차됐는데 저를기억해주고 차도깨끗해서기분좋고...  \n",
       "3  발달지체 영유아가 아니라 일반 영유아의 경우에도 마스크 미착용 시 승차거부를 할 수...  \n",
       "4  오늘 면목동에서경희의료원갈때\\n배차？는데 반갑게인사해주고 차도깨끗하고 장애인들위해안...  "
      ]
     },
     "execution_count": 21,
     "metadata": {},
     "output_type": "execute_result"
    }
   ],
   "source": [
    "import pandas as pd\n",
    "\n",
    "df2 = pd.DataFrame({'작성일':day_list, '제목':title_list, '내용':content_list})\n",
    "df2.head()"
   ]
  },
  {
   "cell_type": "code",
   "execution_count": 23,
   "id": "0c592a0d-511a-442c-8c6d-58056fc2c4bc",
   "metadata": {},
   "outputs": [
    {
     "data": {
      "text/html": [
       "<div>\n",
       "<style scoped>\n",
       "    .dataframe tbody tr th:only-of-type {\n",
       "        vertical-align: middle;\n",
       "    }\n",
       "\n",
       "    .dataframe tbody tr th {\n",
       "        vertical-align: top;\n",
       "    }\n",
       "\n",
       "    .dataframe thead th {\n",
       "        text-align: right;\n",
       "    }\n",
       "</style>\n",
       "<table border=\"1\" class=\"dataframe\">\n",
       "  <thead>\n",
       "    <tr style=\"text-align: right;\">\n",
       "      <th></th>\n",
       "      <th>작성일</th>\n",
       "      <th>제목</th>\n",
       "      <th>내용</th>\n",
       "    </tr>\n",
       "  </thead>\n",
       "  <tbody>\n",
       "    <tr>\n",
       "      <th>45</th>\n",
       "      <td>2021.09.29</td>\n",
       "      <td>3227박상철기사님을칭찬합니다.</td>\n",
       "      <td>박상철기사님차가깨끗해서기분좋고\\n따뜻하게인사해주고 토모엄마도걱정해주어서칭찬합니다.</td>\n",
       "    </tr>\n",
       "    <tr>\n",
       "      <th>46</th>\n",
       "      <td>2021.09.23</td>\n",
       "      <td>72우 1574 기사님 감사합니다.</td>\n",
       "      <td>저는 출퇴근을 장콜을 이용하고 있는데 기사님이 조금 퇴근까지에 맞춰서 나와도 되니 ...</td>\n",
       "    </tr>\n",
       "    <tr>\n",
       "      <th>47</th>\n",
       "      <td>2021.09.21</td>\n",
       "      <td>71우8214면목차고지백평현주임님고생많으셨고고마웠어요.</td>\n",
       "      <td>오늘아침8시경에 양주하늘소풍수목장왕복콜불었는데비가오니까 우산을빌어줘서\\n고마워서칭찬...</td>\n",
       "    </tr>\n",
       "    <tr>\n",
       "      <th>48</th>\n",
       "      <td>2021.09.20</td>\n",
       "      <td>74노9142 이은화기사님을 칭찬합니다</td>\n",
       "      <td>오늘 하루종일 전동휠체어가 고장 나서 속상했는데 휠체어를 수리하고 나왔더니 센터로 ...</td>\n",
       "    </tr>\n",
       "    <tr>\n",
       "      <th>49</th>\n",
       "      <td>2021.09.18</td>\n",
       "      <td>김경희주임을 칭찬합니다</td>\n",
       "      <td>녹음이 짙은 길고 긴 여름이 어느덧 지나고 결실에 계절\\n가을을 맞아 저마다 삶의 ...</td>\n",
       "    </tr>\n",
       "  </tbody>\n",
       "</table>\n",
       "</div>"
      ],
      "text/plain": [
       "           작성일                              제목  \\\n",
       "45  2021.09.29               3227박상철기사님을칭찬합니다.   \n",
       "46  2021.09.23             72우 1574 기사님 감사합니다.   \n",
       "47  2021.09.21  71우8214면목차고지백평현주임님고생많으셨고고마웠어요.   \n",
       "48  2021.09.20           74노9142 이은화기사님을 칭찬합니다   \n",
       "49  2021.09.18                    김경희주임을 칭찬합니다   \n",
       "\n",
       "                                                   내용  \n",
       "45      박상철기사님차가깨끗해서기분좋고\\n따뜻하게인사해주고 토모엄마도걱정해주어서칭찬합니다.  \n",
       "46  저는 출퇴근을 장콜을 이용하고 있는데 기사님이 조금 퇴근까지에 맞춰서 나와도 되니 ...  \n",
       "47  오늘아침8시경에 양주하늘소풍수목장왕복콜불었는데비가오니까 우산을빌어줘서\\n고마워서칭찬...  \n",
       "48  오늘 하루종일 전동휠체어가 고장 나서 속상했는데 휠체어를 수리하고 나왔더니 센터로 ...  \n",
       "49  녹음이 짙은 길고 긴 여름이 어느덧 지나고 결실에 계절\\n가을을 맞아 저마다 삶의 ...  "
      ]
     },
     "execution_count": 23,
     "metadata": {},
     "output_type": "execute_result"
    }
   ],
   "source": [
    "df2.tail()"
   ]
  },
  {
   "cell_type": "code",
   "execution_count": 26,
   "id": "82f68f56-f830-4b9d-ad41-7c8e46133527",
   "metadata": {},
   "outputs": [
    {
     "data": {
      "text/plain": [
       "(50, 3)"
      ]
     },
     "execution_count": 26,
     "metadata": {},
     "output_type": "execute_result"
    }
   ],
   "source": [
    "df2.shape"
   ]
  },
  {
   "cell_type": "markdown",
   "id": "27506c9c-521d-4d06-a87b-d317d7c4b94c",
   "metadata": {},
   "source": [
    "### df1(22.01.05~22.07.14) + df2(21.09.18 ~ 21.12.24) merge"
   ]
  },
  {
   "cell_type": "code",
   "execution_count": 28,
   "id": "b1000f6d-a611-49b2-b6ad-9458fdc249c8",
   "metadata": {},
   "outputs": [
    {
     "data": {
      "text/html": [
       "<div>\n",
       "<style scoped>\n",
       "    .dataframe tbody tr th:only-of-type {\n",
       "        vertical-align: middle;\n",
       "    }\n",
       "\n",
       "    .dataframe tbody tr th {\n",
       "        vertical-align: top;\n",
       "    }\n",
       "\n",
       "    .dataframe thead th {\n",
       "        text-align: right;\n",
       "    }\n",
       "</style>\n",
       "<table border=\"1\" class=\"dataframe\">\n",
       "  <thead>\n",
       "    <tr style=\"text-align: right;\">\n",
       "      <th></th>\n",
       "      <th>작성일</th>\n",
       "      <th>제목</th>\n",
       "      <th>내용</th>\n",
       "    </tr>\n",
       "  </thead>\n",
       "  <tbody>\n",
       "    <tr>\n",
       "      <th>0</th>\n",
       "      <td>2022.07.14</td>\n",
       "      <td>서울31사9681기사님을칭찬합니다</td>\n",
       "      <td>2022년7월14일목요일에 퇴근할때배차됐는데 기사님께서 아이오닉5로바꾸기전에\\n저를...</td>\n",
       "    </tr>\n",
       "    <tr>\n",
       "      <th>1</th>\n",
       "      <td>2022.07.14</td>\n",
       "      <td>차량 번호 우 718268 기사 님 칭찬 합니다.</td>\n",
       "      <td>7월13일 차량 번호 우 718268 기사 님 칭찬합니다\\n홈페이지에 글을 올립니다...</td>\n",
       "    </tr>\n",
       "    <tr>\n",
       "      <th>2</th>\n",
       "      <td>2022.07.12</td>\n",
       "      <td>서울31바5688홍현종기사님하고 서울32자3803이재익기사님을칭찬합니다.</td>\n",
       "      <td>2022년7월11일 월요일에\\n퇴근할때배차가 되었는데\\n기사님께 동네정지훈고객님 태...</td>\n",
       "    </tr>\n",
       "    <tr>\n",
       "      <th>3</th>\n",
       "      <td>2022.07.12</td>\n",
       "      <td>장애인콜택시 이용시 동행콜을 강요하지 말아주세요-답변이 이해가 안됩니다</td>\n",
       "      <td>우선 답변에 감사드리고요.\\n\\n또 정확히 확인을 해주셔서 감사드립니다.\\n\\n그러...</td>\n",
       "    </tr>\n",
       "    <tr>\n",
       "      <th>4</th>\n",
       "      <td>2022.07.11</td>\n",
       "      <td>장애인콜택시 이용시 동행콜을 강요하지 말아주세요</td>\n",
       "      <td>안녕하세요.\\n\\n현재 장애인콜택시 이용시 동행콜이라는 제도가 생겨서 유용하게 잘 ...</td>\n",
       "    </tr>\n",
       "    <tr>\n",
       "      <th>...</th>\n",
       "      <td>...</td>\n",
       "      <td>...</td>\n",
       "      <td>...</td>\n",
       "    </tr>\n",
       "    <tr>\n",
       "      <th>45</th>\n",
       "      <td>2021.09.29</td>\n",
       "      <td>3227박상철기사님을칭찬합니다.</td>\n",
       "      <td>박상철기사님차가깨끗해서기분좋고\\n따뜻하게인사해주고 토모엄마도걱정해주어서칭찬합니다.</td>\n",
       "    </tr>\n",
       "    <tr>\n",
       "      <th>46</th>\n",
       "      <td>2021.09.23</td>\n",
       "      <td>72우 1574 기사님 감사합니다.</td>\n",
       "      <td>저는 출퇴근을 장콜을 이용하고 있는데 기사님이 조금 퇴근까지에 맞춰서 나와도 되니 ...</td>\n",
       "    </tr>\n",
       "    <tr>\n",
       "      <th>47</th>\n",
       "      <td>2021.09.21</td>\n",
       "      <td>71우8214면목차고지백평현주임님고생많으셨고고마웠어요.</td>\n",
       "      <td>오늘아침8시경에 양주하늘소풍수목장왕복콜불었는데비가오니까 우산을빌어줘서\\n고마워서칭찬...</td>\n",
       "    </tr>\n",
       "    <tr>\n",
       "      <th>48</th>\n",
       "      <td>2021.09.20</td>\n",
       "      <td>74노9142 이은화기사님을 칭찬합니다</td>\n",
       "      <td>오늘 하루종일 전동휠체어가 고장 나서 속상했는데 휠체어를 수리하고 나왔더니 센터로 ...</td>\n",
       "    </tr>\n",
       "    <tr>\n",
       "      <th>49</th>\n",
       "      <td>2021.09.18</td>\n",
       "      <td>김경희주임을 칭찬합니다</td>\n",
       "      <td>녹음이 짙은 길고 긴 여름이 어느덧 지나고 결실에 계절\\n가을을 맞아 저마다 삶의 ...</td>\n",
       "    </tr>\n",
       "  </tbody>\n",
       "</table>\n",
       "<p>150 rows × 3 columns</p>\n",
       "</div>"
      ],
      "text/plain": [
       "           작성일                                        제목  \\\n",
       "0   2022.07.14                        서울31사9681기사님을칭찬합니다   \n",
       "1   2022.07.14               차량 번호 우 718268 기사 님 칭찬 합니다.   \n",
       "2   2022.07.12  서울31바5688홍현종기사님하고 서울32자3803이재익기사님을칭찬합니다.   \n",
       "3   2022.07.12   장애인콜택시 이용시 동행콜을 강요하지 말아주세요-답변이 이해가 안됩니다   \n",
       "4   2022.07.11                장애인콜택시 이용시 동행콜을 강요하지 말아주세요   \n",
       "..         ...                                       ...   \n",
       "45  2021.09.29                         3227박상철기사님을칭찬합니다.   \n",
       "46  2021.09.23                       72우 1574 기사님 감사합니다.   \n",
       "47  2021.09.21            71우8214면목차고지백평현주임님고생많으셨고고마웠어요.   \n",
       "48  2021.09.20                     74노9142 이은화기사님을 칭찬합니다   \n",
       "49  2021.09.18                              김경희주임을 칭찬합니다   \n",
       "\n",
       "                                                   내용  \n",
       "0   2022년7월14일목요일에 퇴근할때배차됐는데 기사님께서 아이오닉5로바꾸기전에\\n저를...  \n",
       "1   7월13일 차량 번호 우 718268 기사 님 칭찬합니다\\n홈페이지에 글을 올립니다...  \n",
       "2   2022년7월11일 월요일에\\n퇴근할때배차가 되었는데\\n기사님께 동네정지훈고객님 태...  \n",
       "3   우선 답변에 감사드리고요.\\n\\n또 정확히 확인을 해주셔서 감사드립니다.\\n\\n그러...  \n",
       "4   안녕하세요.\\n\\n현재 장애인콜택시 이용시 동행콜이라는 제도가 생겨서 유용하게 잘 ...  \n",
       "..                                                ...  \n",
       "45      박상철기사님차가깨끗해서기분좋고\\n따뜻하게인사해주고 토모엄마도걱정해주어서칭찬합니다.  \n",
       "46  저는 출퇴근을 장콜을 이용하고 있는데 기사님이 조금 퇴근까지에 맞춰서 나와도 되니 ...  \n",
       "47  오늘아침8시경에 양주하늘소풍수목장왕복콜불었는데비가오니까 우산을빌어줘서\\n고마워서칭찬...  \n",
       "48  오늘 하루종일 전동휠체어가 고장 나서 속상했는데 휠체어를 수리하고 나왔더니 센터로 ...  \n",
       "49  녹음이 짙은 길고 긴 여름이 어느덧 지나고 결실에 계절\\n가을을 맞아 저마다 삶의 ...  \n",
       "\n",
       "[150 rows x 3 columns]"
      ]
     },
     "execution_count": 28,
     "metadata": {},
     "output_type": "execute_result"
    }
   ],
   "source": [
    "merge_df = pd.concat([df1, df2])\n",
    "merge_df"
   ]
  },
  {
   "cell_type": "code",
   "execution_count": 29,
   "id": "7886f8b8-804d-434b-a393-3eb7351e93ab",
   "metadata": {},
   "outputs": [],
   "source": [
    "# excel 파일 저장\n",
    "# merge_df.to_excel('data/장애인 콜택시 후기(21.09.18~22.07.14).xlsx', encoding = 'cp949', index = False)"
   ]
  },
  {
   "cell_type": "markdown",
   "id": "e3d2c685-6812-42a3-a723-26edceae8723",
   "metadata": {},
   "source": [
    "1 data. 본 파이썬 스크립트의 게시글(21.09.18 ~ 22.07.14)  \n",
    "2 data. 인턴 활동 당시 크롤링했던 게시글(19.01.07 ~ 21.09.21)  \n",
    "→ 1 data + 2 data를 엑셀 內에서 결합 (중복된 게시글 → 21.09.18 / 21.09.20 / 21.09.21 제거)  \n",
    "→ 19.01.07 ~ 21.07.14 data 생성 (22.07.04 ~ 22.07.14(총 10건) 삭제)   \n",
    "→ 19.01.07 ~ 22.06.30 data 완성!"
   ]
  },
  {
   "cell_type": "code",
   "execution_count": null,
   "id": "6994a5bd-d3b2-4dbc-a7ae-6921beb73ee5",
   "metadata": {},
   "outputs": [],
   "source": []
  }
 ],
 "metadata": {
  "kernelspec": {
   "display_name": "Python 3",
   "language": "python",
   "name": "python3"
  },
  "language_info": {
   "codemirror_mode": {
    "name": "ipython",
    "version": 3
   },
   "file_extension": ".py",
   "mimetype": "text/x-python",
   "name": "python",
   "nbconvert_exporter": "python",
   "pygments_lexer": "ipython3",
   "version": "3.8.8"
  }
 },
 "nbformat": 4,
 "nbformat_minor": 5
}
